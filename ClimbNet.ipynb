{
 "cells": [
  {
   "cell_type": "code",
   "execution_count": 1,
   "metadata": {},
   "outputs": [],
   "source": [
    "import os\n",
    "import random\n",
    "import json\n",
    "\n",
    "import numpy as np\n",
    "import pandas as pd\n",
    "import matplotlib.pyplot as plt\n",
    "import plotly.graph_objects as go\n",
    "\n",
    "from sklearn.manifold import TSNE\n",
    "from sklearn.preprocessing import LabelEncoder\n",
    "from sklearn.model_selection import train_test_split\n",
    "from sklearn.ensemble import RandomForestClassifier\n",
    "from sklearn.metrics import accuracy_score\n",
    "\n",
    "import networkx as nx\n",
    "from itertools import combinations\n",
    "\n",
    "import torch\n",
    "import torch.nn.functional as F\n",
    "import torch.optim as optim\n",
    "from torch.nn import Linear\n",
    "from torch.utils.data import Dataset, DataLoader\n",
    "\n",
    "from torch_geometric.datasets import Planetoid\n",
    "from torch_geometric.transforms import NormalizeFeatures\n",
    "from torch_geometric.utils import from_networkx\n",
    "from torch_geometric.data import Data, DataLoader, Batch\n",
    "from torch_geometric.nn import GCNConv\n",
    "\n",
    "from gensim.models import Word2Vec"
   ]
  },
  {
   "cell_type": "markdown",
   "metadata": {},
   "source": [
    "**Embedding**\n",
    "---\n",
    "\n",
    "------"
   ]
  },
  {
   "cell_type": "markdown",
   "metadata": {},
   "source": [
    "Load data"
   ]
  },
  {
   "cell_type": "code",
   "execution_count": 2,
   "metadata": {},
   "outputs": [],
   "source": [
    "def parser(path):\n",
    "    with open(path) as file:\n",
    "        data = json.load(file)\n",
    "\n",
    "    df = pd.json_normalize(data, record_path=['data'])\n",
    "    return data, df\n",
    "\n",
    "path = 'problems_2023_01_30/problems MoonBoard 2016 .json'\n",
    "\n",
    "data, df = parser(path)\n",
    "grade_df = df['grade']"
   ]
  },
  {
   "cell_type": "markdown",
   "metadata": {},
   "source": [
    "Constructing initial graphs"
   ]
  },
  {
   "cell_type": "code",
   "execution_count": 3,
   "metadata": {},
   "outputs": [],
   "source": [
    "def create_graph(moves, max_distance):\n",
    "    G = nx.Graph()\n",
    "\n",
    "    pos = {}\n",
    "    nodes = []\n",
    "    for move in moves:\n",
    "        node = move['description']\n",
    "        x = ord(node[0]) - ord('A') + 1\n",
    "        y = 19 - int(node[1:])\n",
    "        pos[node] = (x, y)\n",
    "        nodes.append(node)\n",
    "        G.add_node(node, isStart=move['isStart'], isEnd=move['isEnd'])\n",
    "    \n",
    "    distances = {node: {} for node in nodes}\n",
    "    for n1, n2 in combinations(nodes, 2):\n",
    "        dist = np.linalg.norm(np.array(pos[n1]) - np.array(pos[n2]))\n",
    "        distances[n1][n2] = dist\n",
    "        distances[n2][n1] = dist\n",
    "    \n",
    "    for node in nodes:\n",
    "        sorted_neighbors = sorted(distances[node].items(), key=lambda item: item[1])\n",
    "        closest_neighbors = [neighbor for neighbor, dist in sorted_neighbors[:2]]\n",
    "        for neighbor in closest_neighbors:\n",
    "            G.add_edge(node, neighbor, weight=distances[node][neighbor])\n",
    "    \n",
    "    for (n1, n2) in combinations(nodes, 2):\n",
    "        if n2 not in G[n1] and distances[n1][n2] <= max_distance:\n",
    "            G.add_edge(n1, n2, weight=distances[n1][n2])\n",
    "    \n",
    "    return G, pos\n",
    "\n",
    "max_distance = 5\n",
    "\n",
    "graphs_and_pos = []\n",
    "for moves in df['moves']:\n",
    "    graph, pos = create_graph(moves, max_distance)\n",
    "    graphs_and_pos.append(graph)"
   ]
  },
  {
   "cell_type": "markdown",
   "metadata": {},
   "source": [
    "Node embedding + example"
   ]
  },
  {
   "cell_type": "code",
   "execution_count": 4,
   "metadata": {},
   "outputs": [],
   "source": [
    "def train_directed_embedding(graph):\n",
    "    sentences = []\n",
    "    for graph in graphs_and_pos:\n",
    "        for node in graph.nodes():\n",
    "            if graph.degree(node) > 0:\n",
    "                context = [node] + list(graph.neighbors(node))\n",
    "                sentences.append(context)\n",
    "\n",
    "    model = Word2Vec(sentences, vector_size=3, window=1, min_count=1, sg=1, workers=4, epochs=10, max_final_vocab=198)\n",
    "\n",
    "    return model\n",
    "\n",
    "model = train_directed_embedding(graph)"
   ]
  },
  {
   "cell_type": "code",
   "execution_count": 5,
   "metadata": {},
   "outputs": [
    {
     "name": "stdout",
     "output_type": "stream",
     "text": [
      "Embedding for node K5 : [-0.10885483  1.8481146  -0.99618006]\n"
     ]
    }
   ],
   "source": [
    "node = 'K5'\n",
    "if node in model.wv:\n",
    "    node_vector = model.wv[node]\n",
    "    print(\"Embedding for node\", node, \":\", node_vector)\n",
    "else:\n",
    "    print(\"Node\", node, \"not found in the model.\")"
   ]
  },
  {
   "cell_type": "markdown",
   "metadata": {},
   "source": [
    "Get all unique nodes/words in the model's dictionary"
   ]
  },
  {
   "cell_type": "code",
   "execution_count": 6,
   "metadata": {},
   "outputs": [],
   "source": [
    "vocabulary = list(model.wv.key_to_index.keys()) "
   ]
  },
  {
   "cell_type": "code",
   "execution_count": 7,
   "metadata": {},
   "outputs": [],
   "source": [
    "embeddings = []\n",
    "for node in vocabulary:\n",
    "    embeddings.append((node, model.wv[node]))"
   ]
  },
  {
   "cell_type": "markdown",
   "metadata": {},
   "source": [
    "Get average difficulty of each hold, for plotting purposes"
   ]
  },
  {
   "cell_type": "code",
   "execution_count": 8,
   "metadata": {},
   "outputs": [
    {
     "name": "stdout",
     "output_type": "stream",
     "text": [
      "hold\n",
      "A10    5.777600\n",
      "A11    6.311377\n",
      "A12    5.600592\n",
      "A13    5.631805\n",
      "A14    4.214698\n",
      "         ...   \n",
      "K6     5.828851\n",
      "K7     5.527076\n",
      "K8     5.217048\n",
      "K9     3.930869\n",
      "j5     5.000000\n",
      "Name: grade, Length: 142, dtype: float64\n"
     ]
    }
   ],
   "source": [
    "def map_grades(grade):\n",
    "    mapping = {\n",
    "        '6B': 1, '6B+': 2, '6C': 3, '6C+': 4,\n",
    "        '7A': 5, '7A+': 6, '7B': 7, '7B+': 8, '7C': 9, '7C+': 10,\n",
    "        '8A': 11, '8A+': 12, '8B': 13, '8B+': 14, '8C': 15, '8C+': 16\n",
    "    }\n",
    "    return mapping.get(grade, None)\n",
    "\n",
    "df['numeric_grade'] = df['grade'].apply(map_grades)\n",
    "\n",
    "def parse_moves(moves):\n",
    "    return [(move['description'], move['problemId']) for move in moves]\n",
    "\n",
    "hold_list = []\n",
    "for index, row in df.iterrows():\n",
    "    problem_moves = parse_moves(row['moves'])\n",
    "    for move, problem_id in problem_moves:\n",
    "        hold_list.append({'hold': move, 'grade': row['numeric_grade'], 'problemId': problem_id})\n",
    "\n",
    "holds_df = pd.DataFrame(hold_list)\n",
    "\n",
    "average_difficulty_per_hold = holds_df.groupby('hold')['grade'].mean()\n",
    "\n",
    "print(average_difficulty_per_hold)"
   ]
  },
  {
   "cell_type": "code",
   "execution_count": 9,
   "metadata": {},
   "outputs": [],
   "source": [
    "avg_diff = average_difficulty_per_hold"
   ]
  },
  {
   "cell_type": "markdown",
   "metadata": {},
   "source": [
    "Plotting average difficulty of hold over number of apperances in all problems"
   ]
  },
  {
   "cell_type": "code",
   "execution_count": 10,
   "metadata": {},
   "outputs": [
    {
     "data": {
      "image/png": "[encoded data removed]",
      "text/plain": [
       "<Figure size 1000x600 with 1 Axes>"
      ]
     },
     "metadata": {},
     "output_type": "display_data"
    }
   ],
   "source": [
    "hold_counts = holds_df['hold'].value_counts()\n",
    "\n",
    "average_difficulty_per_hold = holds_df.groupby('hold')['grade'].mean()\n",
    "\n",
    "plot_df = pd.DataFrame({\n",
    "    'NumAppearances': hold_counts,\n",
    "    'AvgDifficulty': average_difficulty_per_hold\n",
    "})\n",
    "\n",
    "plot_df.reset_index(inplace=True)\n",
    "plot_df.rename(columns={'index': 'Hold'}, inplace=True)\n",
    "\n",
    "plt.figure(figsize=(10, 6))\n",
    "plt.scatter(plot_df['NumAppearances'], plot_df['AvgDifficulty'], color='blue', alpha=0.5)\n",
    "\n",
    "for i, point in plot_df.iterrows():\n",
    "    plt.annotate(point['Hold'],\n",
    "                 (point['NumAppearances'], point['AvgDifficulty']), \n",
    "                 textcoords=\"offset points\",\n",
    "                 xytext=(0,10),\n",
    "                 ha='center')\n",
    "\n",
    "plt.title('Hold Usage Frequency vs. Average Difficulty')\n",
    "plt.xlabel('Number of Appearances')\n",
    "plt.ylabel('Average Difficulty')\n",
    "\n",
    "plt.grid(True)\n",
    "\n",
    "# Show plot\n",
    "plt.show()"
   ]
  },
  {
   "cell_type": "markdown",
   "metadata": {},
   "source": [
    "Plot a 3D scatterplot of Node embeddings"
   ]
  },
  {
   "cell_type": "code",
   "execution_count": 17,
   "metadata": {},
   "outputs": [
    {
     "data": {
      "application/vnd.plotly.v1+json": {
       "config": {
        "plotlyServerURL": "https://plot.ly"
       },
       "data": [
        {
         "marker": {
          "colorbar": {
           "title": {
            "text": "Node Difficulty"
           }
          },
          "colorscale": [
           [
            0,
            "#440154"
           ],
           [
            0.1111111111111111,
            "#482878"
           ],
           [
            0.2222222222222222,
            "#3e4989"
           ],
           [
            0.3333333333333333,
            "#31688e"
           ],
           [
            0.4444444444444444,
            "#26828e"
           ],
           [
            0.5555555555555556,
            "#1f9e89"
           ],
           [
            0.6666666666666666,
            "#35b779"
           ],
           [
            0.7777777777777778,
            "#6ece58"
           ],
           [
            0.8888888888888888,
            "#b5de2b"
           ],
           [
            1,
            "#fde725"
           ]
          ],
          "opacity": 0.8,
          "size": 5
         },
         "mode": "markers+text",
         "text": [
          "F5",
          "H10",
          "G13",
          "E15",
          "E8",
          "E18",
          "G18",
          "E10",
          "E13",
          "D18",
          "G9",
          "C13",
          "G8",
          "G2",
          "I14",
          "E12",
          "J8",
          "F14",
          "K5",
          "H11",
          "G4",
          "I18",
          "F11",
          "E16",
          "F10",
          "D10",
          "D15",
          "K18",
          "H8",
          "E6",
          "F15",
          "H5",
          "G14",
          "G17",
          "J5",
          "D3",
          "C7",
          "C10",
          "I10",
          "E11",
          "H16",
          "A5",
          "H14",
          "I5",
          "H9",
          "G15",
          "E14",
          "I12",
          "I16",
          "F13",
          "D12",
          "C5",
          "H12",
          "B3",
          "I4",
          "A18",
          "B16",
          "C18",
          "F9",
          "H18",
          "B11",
          "B10",
          "F7",
          "F12",
          "G6",
          "G11",
          "E7",
          "D9",
          "E9",
          "B8",
          "B18",
          "B4",
          "C15",
          "D13",
          "D11",
          "I11",
          "D17",
          "C12",
          "D6",
          "J2",
          "C8",
          "K9",
          "D5",
          "C14",
          "G12",
          "G10",
          "D16",
          "J13",
          "A14",
          "H13",
          "A9",
          "J7",
          "I6",
          "F6",
          "C9",
          "I13",
          "F8",
          "B13",
          "D8",
          "B9",
          "K11",
          "G7",
          "I15",
          "B6",
          "B15",
          "J10",
          "D14",
          "K14",
          "I9",
          "F16",
          "K8",
          "J9",
          "J12",
          "G16",
          "J16",
          "D7",
          "K6",
          "C11",
          "B7",
          "K7",
          "I8",
          "J14",
          "H7",
          "K10",
          "I7",
          "K16",
          "H15",
          "B12",
          "J11",
          "A13",
          "A12",
          "C16",
          "C6",
          "K12",
          "A10",
          "A16",
          "K13",
          "J6",
          "A11",
          "A15",
          "j5",
          "A6"
         ],
         "textposition": "top center",
         "type": "scatter3d",
         "x": [
          -0.7825524210929871,
          -0.23590821027755737,
          -0.16096904873847961,
          -0.3495832681655884,
          -0.8991186618804932,
          -0.37732481956481934,
          -0.1424413025379181,
          -0.5086790323257446,
          -0.5523518919944763,
          -0.6123710870742798,
          -0.557122528553009,
          -0.9226093888282776,
          -0.45605728030204773,
          -0.960969090461731,
          0.1545703411102295,
          -0.750898003578186,
          0.00554594025015831,
          -0.05579286441206932,
          -0.10885483026504517,
          -0.08764869719743729,
          -0.8409034609794617,
          0.12707701325416565,
          -0.6151730418205261,
          -0.49568796157836914,
          -0.6253690123558044,
          -0.9774035215377808,
          -1.1630277633666992,
          0.48146146535873413,
          -0.5518122911453247,
          -0.9930604100227356,
          -0.3431323170661926,
          -0.6512728929519653,
          -0.13412845134735107,
          -0.021658573299646378,
          -0.4755803346633911,
          -1.9993155002593994,
          -1.4773943424224854,
          -0.9408972859382629,
          0.03145907446742058,
          -0.5818360447883606,
          0.22786329686641693,
          -2.3274664878845215,
          -0.08202933520078659,
          -0.3407742977142334,
          -0.21098218858242035,
          0.2077760398387909,
          -0.5800919532775879,
          0.09816289693117142,
          0.32662147283554077,
          -0.15613937377929688,
          -0.962257981300354,
          -1.9490283727645874,
          0.054468732327222824,
          -1.8992198705673218,
          -0.7535742521286011,
          -1.351346731185913,
          -1.2476322650909424,
          -0.7820379734039307,
          -0.6323943138122559,
          -0.0041839927434921265,
          -1.208317756652832,
          -1.498041033744812,
          -0.7111139893531799,
          -0.3845180571079254,
          -0.6416773796081543,
          -0.35569921135902405,
          -1.115222454071045,
          -0.9997603297233582,
          -1.0404586791992188,
          -1.682945966720581,
          -1.188637137413025,
          -2.1602425575256348,
          -0.800479531288147,
          -0.9082542061805725,
          -0.8096683025360107,
          0.14920026063919067,
          -0.883258581161499,
          -1.033705472946167,
          -1.5165377855300903,
          -0.6973020434379578,
          -1.1793270111083984,
          0.26606160402297974,
          -1.8874456882476807,
          -1.1628512144088745,
          -0.19629856944084167,
          -0.5598001480102539,
          -0.8526003956794739,
          0.4736741781234741,
          -1.4592671394348145,
          -0.05522353574633598,
          -1.7049461603164673,
          -0.13126510381698608,
          -0.7022063136100769,
          -1.0338176488876343,
          -1.0895174741744995,
          0.10854295641183853,
          -0.79127436876297,
          -1.2755900621414185,
          -1.2017935514450073,
          -1.4594296216964722,
          0.4060167670249939,
          -0.9011824131011963,
          0.4784091114997864,
          -1.886329174041748,
          -1.3639520406723022,
          -0.00047104188706725836,
          -1.1003161668777466,
          0.640180230140686,
          -0.22358746826648712,
          -0.41885116696357727,
          0.12149646133184433,
          0.05734686553478241,
          0.28911489248275757,
          -0.014251104556024075,
          0.46895915269851685,
          -1.6124277114868164,
          -0.2829613983631134,
          -1.3127254247665405,
          -1.3935858011245728,
          -0.16435594856739044,
          -0.4073827266693115,
          0.5614458918571472,
          -0.6272395253181458,
          0.21151427924633026,
          -0.47226426005363464,
          0.7788475155830383,
          0.26007091999053955,
          -1.5038090944290161,
          0.21682102978229523,
          -1.49786376953125,
          -1.6503725051879883,
          -1.3108069896697998,
          -1.8592723608016968,
          0.45022836327552795,
          -1.4587241411209106,
          -1.6483184099197388,
          0.6193965077400208,
          -0.6398711800575256,
          -1.5324110984802246,
          -2.2434725761413574,
          -0.35365214943885803,
          -0.4255330562591553
         ],
         "y": [
          0.6539766192436218,
          0.8085587024688721,
          0.6874377131462097,
          0.4495023488998413,
          0.3655329942703247,
          0.45840662717819214,
          0.6967121958732605,
          0.4759744703769684,
          0.3084043562412262,
          0.2761947810649872,
          0.6255103349685669,
          0.04091837629675865,
          0.7892929315567017,
          1.121751070022583,
          1.0570881366729736,
          0.20303335785865784,
          1.6022834777832031,
          0.7929635047912598,
          1.8481146097183228,
          0.9078953266143799,
          0.9086064696311951,
          1.065182089805603,
          0.34723952412605286,
          0.3606303930282593,
          0.4739723205566406,
          0.2082526832818985,
          -0.1019294336438179,
          1.7067697048187256,
          0.8166499733924866,
          0.6257487535476685,
          0.5351885557174683,
          1.2500611543655396,
          0.7028430104255676,
          0.8319398760795593,
          1.250765085220337,
          0.5518347024917603,
          0.15906591713428497,
          0.16378647089004517,
          1.223530888557434,
          0.364761084318161,
          1.184444785118103,
          -0.01047608908265829,
          0.8153775334358215,
          1.3691554069519043,
          1.074533462524414,
          1.1465555429458618,
          0.29501014947891235,
          1.1419813632965088,
          1.325946569442749,
          0.7407233715057373,
          0.030392587184906006,
          0.1661645770072937,
          1.0663169622421265,
          0.3211023807525635,
          1.2553297281265259,
          -0.11837901175022125,
          -0.14288535714149475,
          0.24539367854595184,
          0.5985991954803467,
          0.9452382326126099,
          -0.08692022413015366,
          -0.153518944978714,
          0.8812503814697266,
          0.5309513807296753,
          1.1723164319992065,
          0.6725824475288391,
          0.46669626235961914,
          0.21412129700183868,
          0.292091965675354,
          -0.05991305410861969,
          -0.04912278428673744,
          0.4120335578918457,
          0.14668475091457367,
          0.09775494039058685,
          0.2091747671365738,
          1.2801679372787476,
          0.12355746328830719,
          0.025729099288582802,
          0.4144824147224426,
          1.7908148765563965,
          0.22477839887142181,
          1.949964165687561,
          0.32429182529449463,
          -0.0688384547829628,
          0.7066057324409485,
          0.5223051905632019,
          0.18192917108535767,
          1.7022343873977661,
          -0.25803342461586,
          0.8861695528030396,
          -0.17332085967063904,
          1.6007691621780396,
          1.173001766204834,
          0.8432624340057373,
          0.19635118544101715,
          1.0902178287506104,
          0.6304571628570557,
          -0.16532379388809204,
          0.27993085980415344,
          -0.07179547846317291,
          1.7546433210372925,
          0.8415107131004333,
          1.673673391342163,
          0.11313037574291229,
          -0.18309736251831055,
          1.3297466039657593,
          -0.02720208466053009,
          2.029675006866455,
          1.1748151779174805,
          0.4696210026741028,
          1.7506788969039917,
          1.546762228012085,
          1.4552795886993408,
          0.9435499906539917,
          1.5972853899002075,
          0.16975833475589752,
          1.7148147821426392,
          -0.08668428659439087,
          0.13137458264827728,
          1.4727970361709595,
          1.109320878982544,
          1.9270519018173218,
          1.0198694467544556,
          1.498909592628479,
          1.1574363708496094,
          2.2597365379333496,
          1.3433451652526855,
          -0.2360776960849762,
          1.539259433746338,
          -0.23663239181041718,
          -0.3273822069168091,
          -0.09615037590265274,
          0.17558114230632782,
          1.8086658716201782,
          -0.12832823395729065,
          -0.2681066393852234,
          2.116182804107666,
          1.372965931892395,
          -0.2219843715429306,
          -0.4863315522670746,
          0.2803139090538025,
          0.39684027433395386
         ],
         "z": [
          -0.6240636706352234,
          -0.09488238394260406,
          0.4863133728504181,
          0.9395765066146851,
          -0.36107587814331055,
          1.2048271894454956,
          1.1798300743103027,
          0.03350892290472984,
          0.6064701080322266,
          1.212375283241272,
          -0.30625271797180176,
          0.7209119200706482,
          -0.4277632236480713,
          -1.3229981660842896,
          0.7228020429611206,
          0.42378777265548706,
          -0.6772142052650452,
          0.6950016617774963,
          -0.9961800575256348,
          0.07095232605934143,
          -0.9743412733078003,
          1.1991851329803467,
          0.19984571635723114,
          1.2883185148239136,
          -0.0965501144528389,
          -0.06434081494808197,
          1.2282602787017822,
          1.2109702825546265,
          -0.5662625432014465,
          -0.7788211107254028,
          1.0901753902435303,
          -1.1312004327774048,
          0.7569568753242493,
          1.4457498788833618,
          -0.8950684666633606,
          -1.3783791065216064,
          -0.5444832444190979,
          0.06026477739214897,
          -0.162200927734375,
          0.19619803130626678,
          1.1452502012252808,
          -0.7870469689369202,
          0.7028392553329468,
          -0.8710693120956421,
          -0.3478773534297943,
          0.950274646282196,
          0.8081731200218201,
          0.19771894812583923,
          1.0915050506591797,
          0.5529712438583374,
          0.5510639548301697,
          -0.8415207266807556,
          0.2780246436595917,
          -1.0364242792129517,
          -1.2108421325683594,
          1.608567714691162,
          1.415291666984558,
          1.6353237628936768,
          -0.30832013487815857,
          1.3723341226577759,
          0.4089187681674957,
          0.15189245343208313,
          -0.8184436559677124,
          0.39938440918922424,
          -1.0324970483779907,
          0.13572926819324493,
          -0.699614942073822,
          -0.15221662819385529,
          -0.3254350423812866,
          -0.30656224489212036,
          1.6519389152526855,
          -1.2914777994155884,
          1.0932289361953735,
          0.7602209448814392,
          0.21025002002716064,
          0.001981306355446577,
          1.7335920333862305,
          0.5119011998176575,
          -0.8694576025009155,
          -1.6227986812591553,
          -0.36361879110336304,
          -0.5256676077842712,
          -1.0060558319091797,
          1.0504672527313232,
          0.35898512601852417,
          -0.03057435341179371,
          1.6274887323379517,
          0.45665037631988525,
          1.0928643941879272,
          0.4591246247291565,
          -0.04622800275683403,
          -0.8660816550254822,
          -1.0759406089782715,
          -1.0129179954528809,
          -0.16207356750965118,
          0.42771679162979126,
          -0.5509510040283203,
          0.8191463947296143,
          -0.4418690800666809,
          -0.05631817504763603,
          0.015170645900070667,
          -0.9115858674049377,
          0.9368299841880798,
          -0.7135000228881836,
          1.2246018648147583,
          -0.2896985113620758,
          1.0195170640945435,
          0.6658017039299011,
          -0.5178550481796265,
          1.379878044128418,
          -0.5523516535758972,
          -0.5529720783233643,
          0.2156209498643875,
          1.3848650455474854,
          1.1188852787017822,
          -0.5954078435897827,
          -1.0533689260482788,
          0.32719483971595764,
          -0.3687884211540222,
          -0.7339059114456177,
          -0.6547242999076843,
          0.7580117583274841,
          -0.8330937027931213,
          -0.03649182990193367,
          -0.859250545501709,
          1.1433852910995483,
          1.066723108291626,
          0.6701252460479736,
          -0.0033025997690856457,
          0.9334874153137207,
          0.7277560234069824,
          1.6055150032043457,
          -0.7730163335800171,
          0.2722420394420624,
          0.2651712894439697,
          1.7366487979888916,
          0.5205975770950317,
          -1.1780335903167725,
          0.4854790270328522,
          1.7137556076049805,
          0.31036195158958435,
          0.26572495698928833
         ]
        }
       ],
       "layout": {
        "margin": {
         "b": 0,
         "l": 0,
         "r": 0,
         "t": 0
        },
        "scene": {
         "xaxis": {
          "title": {
           "text": "Dimension 1"
          }
         },
         "yaxis": {
          "title": {
           "text": "Dimension 2"
          }
         },
         "zaxis": {
          "title": {
           "text": "Dimension 3"
          }
         }
        },
        "template": {
         "data": {
          "bar": [
           {
            "error_x": {
             "color": "#2a3f5f"
            },
            "error_y": {
             "color": "#2a3f5f"
            },
            "marker": {
             "line": {
              "color": "#E5ECF6",
              "width": 0.5
             },
             "pattern": {
              "fillmode": "overlay",
              "size": 10,
              "solidity": 0.2
             }
            },
            "type": "bar"
           }
          ],
          "barpolar": [
           {
            "marker": {
             "line": {
              "color": "#E5ECF6",
              "width": 0.5
             },
             "pattern": {
              "fillmode": "overlay",
              "size": 10,
              "solidity": 0.2
             }
            },
            "type": "barpolar"
           }
          ],
          "carpet": [
           {
            "aaxis": {
             "endlinecolor": "#2a3f5f",
             "gridcolor": "white",
             "linecolor": "white",
             "minorgridcolor": "white",
             "startlinecolor": "#2a3f5f"
            },
            "baxis": {
             "endlinecolor": "#2a3f5f",
             "gridcolor": "white",
             "linecolor": "white",
             "minorgridcolor": "white",
             "startlinecolor": "#2a3f5f"
            },
            "type": "carpet"
           }
          ],
          "choropleth": [
           {
            "colorbar": {
             "outlinewidth": 0,
             "ticks": ""
            },
            "type": "choropleth"
           }
          ],
          "contour": [
           {
            "colorbar": {
             "outlinewidth": 0,
             "ticks": ""
            },
            "colorscale": [
             [
              0,
              "#0d0887"
             ],
             [
              0.1111111111111111,
              "#46039f"
             ],
             [
              0.2222222222222222,
              "#7201a8"
             ],
             [
              0.3333333333333333,
              "#9c179e"
             ],
             [
              0.4444444444444444,
              "#bd3786"
             ],
             [
              0.5555555555555556,
              "#d8576b"
             ],
             [
              0.6666666666666666,
              "#ed7953"
             ],
             [
              0.7777777777777778,
              "#fb9f3a"
             ],
             [
              0.8888888888888888,
              "#fdca26"
             ],
             [
              1,
              "#f0f921"
             ]
            ],
            "type": "contour"
           }
          ],
          "contourcarpet": [
           {
            "colorbar": {
             "outlinewidth": 0,
             "ticks": ""
            },
            "type": "contourcarpet"
           }
          ],
          "heatmap": [
           {
            "colorbar": {
             "outlinewidth": 0,
             "ticks": ""
            },
            "colorscale": [
             [
              0,
              "#0d0887"
             ],
             [
              0.1111111111111111,
              "#46039f"
             ],
             [
              0.2222222222222222,
              "#7201a8"
             ],
             [
              0.3333333333333333,
              "#9c179e"
             ],
             [
              0.4444444444444444,
              "#bd3786"
             ],
             [
              0.5555555555555556,
              "#d8576b"
             ],
             [
              0.6666666666666666,
              "#ed7953"
             ],
             [
              0.7777777777777778,
              "#fb9f3a"
             ],
             [
              0.8888888888888888,
              "#fdca26"
             ],
             [
              1,
              "#f0f921"
             ]
            ],
            "type": "heatmap"
           }
          ],
          "heatmapgl": [
           {
            "colorbar": {
             "outlinewidth": 0,
             "ticks": ""
            },
            "colorscale": [
             [
              0,
              "#0d0887"
             ],
             [
              0.1111111111111111,
              "#46039f"
             ],
             [
              0.2222222222222222,
              "#7201a8"
             ],
             [
              0.3333333333333333,
              "#9c179e"
             ],
             [
              0.4444444444444444,
              "#bd3786"
             ],
             [
              0.5555555555555556,
              "#d8576b"
             ],
             [
              0.6666666666666666,
              "#ed7953"
             ],
             [
              0.7777777777777778,
              "#fb9f3a"
             ],
             [
              0.8888888888888888,
              "#fdca26"
             ],
             [
              1,
              "#f0f921"
             ]
            ],
            "type": "heatmapgl"
           }
          ],
          "histogram": [
           {
            "marker": {
             "pattern": {
              "fillmode": "overlay",
              "size": 10,
              "solidity": 0.2
             }
            },
            "type": "histogram"
           }
          ],
          "histogram2d": [
           {
            "colorbar": {
             "outlinewidth": 0,
             "ticks": ""
            },
            "colorscale": [
             [
              0,
              "#0d0887"
             ],
             [
              0.1111111111111111,
              "#46039f"
             ],
             [
              0.2222222222222222,
              "#7201a8"
             ],
             [
              0.3333333333333333,
              "#9c179e"
             ],
             [
              0.4444444444444444,
              "#bd3786"
             ],
             [
              0.5555555555555556,
              "#d8576b"
             ],
             [
              0.6666666666666666,
              "#ed7953"
             ],
             [
              0.7777777777777778,
              "#fb9f3a"
             ],
             [
              0.8888888888888888,
              "#fdca26"
             ],
             [
              1,
              "#f0f921"
             ]
            ],
            "type": "histogram2d"
           }
          ],
          "histogram2dcontour": [
           {
            "colorbar": {
             "outlinewidth": 0,
             "ticks": ""
            },
            "colorscale": [
             [
              0,
              "#0d0887"
             ],
             [
              0.1111111111111111,
              "#46039f"
             ],
             [
              0.2222222222222222,
              "#7201a8"
             ],
             [
              0.3333333333333333,
              "#9c179e"
             ],
             [
              0.4444444444444444,
              "#bd3786"
             ],
             [
              0.5555555555555556,
              "#d8576b"
             ],
             [
              0.6666666666666666,
              "#ed7953"
             ],
             [
              0.7777777777777778,
              "#fb9f3a"
             ],
             [
              0.8888888888888888,
              "#fdca26"
             ],
             [
              1,
              "#f0f921"
             ]
            ],
            "type": "histogram2dcontour"
           }
          ],
          "mesh3d": [
           {
            "colorbar": {
             "outlinewidth": 0,
             "ticks": ""
            },
            "type": "mesh3d"
           }
          ],
          "parcoords": [
           {
            "line": {
             "colorbar": {
              "outlinewidth": 0,
              "ticks": ""
             }
            },
            "type": "parcoords"
           }
          ],
          "pie": [
           {
            "automargin": true,
            "type": "pie"
           }
          ],
          "scatter": [
           {
            "fillpattern": {
             "fillmode": "overlay",
             "size": 10,
             "solidity": 0.2
            },
            "type": "scatter"
           }
          ],
          "scatter3d": [
           {
            "line": {
             "colorbar": {
              "outlinewidth": 0,
              "ticks": ""
             }
            },
            "marker": {
             "colorbar": {
              "outlinewidth": 0,
              "ticks": ""
             }
            },
            "type": "scatter3d"
           }
          ],
          "scattercarpet": [
           {
            "marker": {
             "colorbar": {
              "outlinewidth": 0,
              "ticks": ""
             }
            },
            "type": "scattercarpet"
           }
          ],
          "scattergeo": [
           {
            "marker": {
             "colorbar": {
              "outlinewidth": 0,
              "ticks": ""
             }
            },
            "type": "scattergeo"
           }
          ],
          "scattergl": [
           {
            "marker": {
             "colorbar": {
              "outlinewidth": 0,
              "ticks": ""
             }
            },
            "type": "scattergl"
           }
          ],
          "scattermapbox": [
           {
            "marker": {
             "colorbar": {
              "outlinewidth": 0,
              "ticks": ""
             }
            },
            "type": "scattermapbox"
           }
          ],
          "scatterpolar": [
           {
            "marker": {
             "colorbar": {
              "outlinewidth": 0,
              "ticks": ""
             }
            },
            "type": "scatterpolar"
           }
          ],
          "scatterpolargl": [
           {
            "marker": {
             "colorbar": {
              "outlinewidth": 0,
              "ticks": ""
             }
            },
            "type": "scatterpolargl"
           }
          ],
          "scatterternary": [
           {
            "marker": {
             "colorbar": {
              "outlinewidth": 0,
              "ticks": ""
             }
            },
            "type": "scatterternary"
           }
          ],
          "surface": [
           {
            "colorbar": {
             "outlinewidth": 0,
             "ticks": ""
            },
            "colorscale": [
             [
              0,
              "#0d0887"
             ],
             [
              0.1111111111111111,
              "#46039f"
             ],
             [
              0.2222222222222222,
              "#7201a8"
             ],
             [
              0.3333333333333333,
              "#9c179e"
             ],
             [
              0.4444444444444444,
              "#bd3786"
             ],
             [
              0.5555555555555556,
              "#d8576b"
             ],
             [
              0.6666666666666666,
              "#ed7953"
             ],
             [
              0.7777777777777778,
              "#fb9f3a"
             ],
             [
              0.8888888888888888,
              "#fdca26"
             ],
             [
              1,
              "#f0f921"
             ]
            ],
            "type": "surface"
           }
          ],
          "table": [
           {
            "cells": {
             "fill": {
              "color": "#EBF0F8"
             },
             "line": {
              "color": "white"
             }
            },
            "header": {
             "fill": {
              "color": "#C8D4E3"
             },
             "line": {
              "color": "white"
             }
            },
            "type": "table"
           }
          ]
         },
         "layout": {
          "annotationdefaults": {
           "arrowcolor": "#2a3f5f",
           "arrowhead": 0,
           "arrowwidth": 1
          },
          "autotypenumbers": "strict",
          "coloraxis": {
           "colorbar": {
            "outlinewidth": 0,
            "ticks": ""
           }
          },
          "colorscale": {
           "diverging": [
            [
             0,
             "#8e0152"
            ],
            [
             0.1,
             "#c51b7d"
            ],
            [
             0.2,
             "#de77ae"
            ],
            [
             0.3,
             "#f1b6da"
            ],
            [
             0.4,
             "#fde0ef"
            ],
            [
             0.5,
             "#f7f7f7"
            ],
            [
             0.6,
             "#e6f5d0"
            ],
            [
             0.7,
             "#b8e186"
            ],
            [
             0.8,
             "#7fbc41"
            ],
            [
             0.9,
             "#4d9221"
            ],
            [
             1,
             "#276419"
            ]
           ],
           "sequential": [
            [
             0,
             "#0d0887"
            ],
            [
             0.1111111111111111,
             "#46039f"
            ],
            [
             0.2222222222222222,
             "#7201a8"
            ],
            [
             0.3333333333333333,
             "#9c179e"
            ],
            [
             0.4444444444444444,
             "#bd3786"
            ],
            [
             0.5555555555555556,
             "#d8576b"
            ],
            [
             0.6666666666666666,
             "#ed7953"
            ],
            [
             0.7777777777777778,
             "#fb9f3a"
            ],
            [
             0.8888888888888888,
             "#fdca26"
            ],
            [
             1,
             "#f0f921"
            ]
           ],
           "sequentialminus": [
            [
             0,
             "#0d0887"
            ],
            [
             0.1111111111111111,
             "#46039f"
            ],
            [
             0.2222222222222222,
             "#7201a8"
            ],
            [
             0.3333333333333333,
             "#9c179e"
            ],
            [
             0.4444444444444444,
             "#bd3786"
            ],
            [
             0.5555555555555556,
             "#d8576b"
            ],
            [
             0.6666666666666666,
             "#ed7953"
            ],
            [
             0.7777777777777778,
             "#fb9f3a"
            ],
            [
             0.8888888888888888,
             "#fdca26"
            ],
            [
             1,
             "#f0f921"
            ]
           ]
          },
          "colorway": [
           "#636efa",
           "#EF553B",
           "#00cc96",
           "#ab63fa",
           "#FFA15A",
           "#19d3f3",
           "#FF6692",
           "#B6E880",
           "#FF97FF",
           "#FECB52"
          ],
          "font": {
           "color": "#2a3f5f"
          },
          "geo": {
           "bgcolor": "white",
           "lakecolor": "white",
           "landcolor": "#E5ECF6",
           "showlakes": true,
           "showland": true,
           "subunitcolor": "white"
          },
          "hoverlabel": {
           "align": "left"
          },
          "hovermode": "closest",
          "mapbox": {
           "style": "light"
          },
          "paper_bgcolor": "white",
          "plot_bgcolor": "#E5ECF6",
          "polar": {
           "angularaxis": {
            "gridcolor": "white",
            "linecolor": "white",
            "ticks": ""
           },
           "bgcolor": "#E5ECF6",
           "radialaxis": {
            "gridcolor": "white",
            "linecolor": "white",
            "ticks": ""
           }
          },
          "scene": {
           "xaxis": {
            "backgroundcolor": "#E5ECF6",
            "gridcolor": "white",
            "gridwidth": 2,
            "linecolor": "white",
            "showbackground": true,
            "ticks": "",
            "zerolinecolor": "white"
           },
           "yaxis": {
            "backgroundcolor": "#E5ECF6",
            "gridcolor": "white",
            "gridwidth": 2,
            "linecolor": "white",
            "showbackground": true,
            "ticks": "",
            "zerolinecolor": "white"
           },
           "zaxis": {
            "backgroundcolor": "#E5ECF6",
            "gridcolor": "white",
            "gridwidth": 2,
            "linecolor": "white",
            "showbackground": true,
            "ticks": "",
            "zerolinecolor": "white"
           }
          },
          "shapedefaults": {
           "line": {
            "color": "#2a3f5f"
           }
          },
          "ternary": {
           "aaxis": {
            "gridcolor": "white",
            "linecolor": "white",
            "ticks": ""
           },
           "baxis": {
            "gridcolor": "white",
            "linecolor": "white",
            "ticks": ""
           },
           "bgcolor": "#E5ECF6",
           "caxis": {
            "gridcolor": "white",
            "linecolor": "white",
            "ticks": ""
           }
          },
          "title": {
           "x": 0.05
          },
          "xaxis": {
           "automargin": true,
           "gridcolor": "white",
           "linecolor": "white",
           "ticks": "",
           "title": {
            "standoff": 15
           },
           "zerolinecolor": "white",
           "zerolinewidth": 2
          },
          "yaxis": {
           "automargin": true,
           "gridcolor": "white",
           "linecolor": "white",
           "ticks": "",
           "title": {
            "standoff": 15
           },
           "zerolinecolor": "white",
           "zerolinewidth": 2
          }
         }
        },
        "title": {
         "text": "3D Visualization of Node Embeddings with Difficulty Scaling"
        }
       }
      }
     },
     "metadata": {},
     "output_type": "display_data"
    }
   ],
   "source": [
    "\n",
    "labels = [label for label, _ in embeddings]\n",
    "x_coords = [coords[0] for _, coords in embeddings]\n",
    "y_coords = [coords[1] for _, coords in embeddings]\n",
    "z_coords = [coords[2] for _, coords in embeddings]\n",
    "\n",
    "fig = go.Figure(data=[go.Scatter3d(\n",
    "    x=x_coords,\n",
    "    y=y_coords,\n",
    "    z=z_coords,\n",
    "    text=labels,\n",
    "    mode='markers+text', \n",
    "    marker=dict(\n",
    "        size=5,\n",
    "        colorscale='Viridis', \n",
    "        opacity=0.8,\n",
    "        colorbar=dict(title='Node Difficulty')\n",
    "    ),\n",
    "    textposition='top center'\n",
    ")])\n",
    "\n",
    "fig.update_layout(\n",
    "    title='3D Visualization of Node Embeddings with Difficulty Scaling',\n",
    "    scene=dict(\n",
    "        xaxis_title='Dimension 1',\n",
    "        yaxis_title='Dimension 2',\n",
    "        zaxis_title='Dimension 3'\n",
    "    ),\n",
    "    margin=dict(l=0, r=0, b=0, t=0) \n",
    ")\n",
    "\n",
    "fig.show()"
   ]
  },
  {
   "cell_type": "markdown",
   "metadata": {},
   "source": [
    "Div functions for constructing graphs and embeddings for RF grid search"
   ]
  },
  {
   "cell_type": "code",
   "execution_count": 18,
   "metadata": {},
   "outputs": [],
   "source": [
    "def create_graph(moves, max_distance):\n",
    "    G = nx.Graph()\n",
    "    pos = {} \n",
    "    nodes = set()\n",
    "    for move in moves:\n",
    "        node = move['description']\n",
    "        nodes.add(node)\n",
    "        x = ord(node[0]) - ord('A') + 1\n",
    "        y = 19 - int(node[1:])\n",
    "        pos[node] = (x, y)\n",
    "        G.add_node(node, isStart=move['isStart'], isEnd=move['isEnd'])\n",
    "\n",
    "    for n1, n2 in combinations(nodes, 2):\n",
    "        dist = np.linalg.norm(np.array(pos[n1]) - np.array(pos[n2]))\n",
    "        if dist <= max_distance:\n",
    "            G.add_edge(n1, n2, weight=dist) \n",
    "\n",
    "    return G, pos\n",
    "\n",
    "def create_graph2(moves, max_distance):\n",
    "    G = nx.Graph()\n",
    "    pos = {} \n",
    "    nodes = set()\n",
    "    for move in moves:\n",
    "        node = move['description']\n",
    "        nodes.add(node)\n",
    "        x = ord(node[0]) - ord('A') + 1\n",
    "        y = 19 - int(node[1:])\n",
    "        pos[node] = (x, y)\n",
    "        G.add_node(node, isStart=move['isStart'], isEnd=move['isEnd'])\n",
    "\n",
    "    for n1, n2 in combinations(nodes, 2):\n",
    "        dist = np.linalg.norm(np.array(pos[n1]) - np.array(pos[n2]))\n",
    "        if dist <= max_distance:\n",
    "            G.add_edge(n1, n2, weight=dist) \n",
    "\n",
    "    return G\n",
    "\n",
    "def train_embedding(graphs, v_size=100, window=1, min_count=1, sg=1, epochs=10, mfv=198):\n",
    "    sentences = []\n",
    "    for graph in graphs:\n",
    "        sentences.extend([list(graph.neighbors(node)) for node in graph.nodes() if graph.degree(node) > 0])\n",
    "    \n",
    "    model = Word2Vec(sentences, vector_size=v_size, window=window, min_count=min_count, sg=sg, workers=4, epochs=epochs, max_final_vocab=mfv)\n",
    "    return model\n",
    "\n",
    "def encode_grades(df, grade_mapping):\n",
    "    df['grade_encoded'] = df['grade'].map(grade_mapping).fillna(-1).astype(int)\n",
    "    return df\n",
    "\n",
    "def aggregate_embeddings(moves_list, embeddings):\n",
    "    embeddings_list = [embeddings[move['description']] for move in moves_list if move['description'] in embeddings]\n",
    "    return np.mean(embeddings_list, axis=0) if embeddings_list else np.zeros(100)"
   ]
  },
  {
   "cell_type": "markdown",
   "metadata": {},
   "source": [
    "Mapping problem difficulty"
   ]
  },
  {
   "cell_type": "code",
   "execution_count": 19,
   "metadata": {},
   "outputs": [],
   "source": [
    "grade_mapping = {\n",
    "    '6B+': 0, '6C': 1, '6C+': 2, '7A': 3, '7A+': 4,\n",
    "    '7B': 5, '7B+': 6, '7C': 7, '7C+': 8, '8A': 9,\n",
    "    '8A+': 10, '8B': 11, '8B+': 12\n",
    "}\n",
    "\n",
    "df_encoded = encode_grades(df, grade_mapping)"
   ]
  },
  {
   "cell_type": "markdown",
   "metadata": {},
   "source": [
    "Grid search W2V parameters"
   ]
  },
  {
   "cell_type": "code",
   "execution_count": 20,
   "metadata": {},
   "outputs": [],
   "source": [
    "dist_list = [4,5,6,7,8,9,10]\n",
    "emb_list = [3, 10, 50, 100]\n",
    "window_list = [1,2,3]"
   ]
  },
  {
   "cell_type": "code",
   "execution_count": null,
   "metadata": {},
   "outputs": [],
   "source": [
    "for dist in dist_list:\n",
    "    for emb in emb_list:\n",
    "        for w in window_list:\n",
    "            max_distance = dist\n",
    "            graphs_and_pos = [(create_graph(moves, max_distance), index) for index, moves in enumerate(df['moves'])]\n",
    "            graphs = [graph for graph, _ in graphs_and_pos]\n",
    "\n",
    "            model = train_embedding(graphs, v_size=emb, window=w)\n",
    "\n",
    "            df_encoded['aggregated_embeddings'] = df_encoded['moves'].apply(lambda x: aggregate_embeddings(x, model.wv))\n",
    "            X = pd.DataFrame(df_encoded['aggregated_embeddings'].tolist())\n",
    "            y = df_encoded['grade_encoded']\n",
    "\n",
    "            X_train, X_test, y_train, y_test = train_test_split(X, y, test_size=0.2, random_state=42)\n",
    "            classifier = RandomForestClassifier(n_estimators=100, random_state=42)\n",
    "            classifier.fit(X_train, y_train)\n",
    "\n",
    "            predictions = classifier.predict(X_test)\n",
    "            accuracy = accuracy_score(y_test, predictions)\n",
    "            print(f\"Distance: {dist}, Emb: {emb}, Window: {w}, Accuracy: {accuracy:.2%}\")"
   ]
  },
  {
   "cell_type": "markdown",
   "metadata": {},
   "source": [
    "Optimal calibration: v_size=50, window=2"
   ]
  },
  {
   "cell_type": "code",
   "execution_count": 22,
   "metadata": {},
   "outputs": [
    {
     "name": "stdout",
     "output_type": "stream",
     "text": [
      "Distance: 4, Emb: 3, Window: 1, Accuracy: 37.60%\n"
     ]
    }
   ],
   "source": [
    "max_distance = 9\n",
    "graphs_and_pos = [create_graph(moves, max_distance) for moves in df['moves']]\n",
    "graph_list = [(create_graph2(moves, max_distance), index) for index, moves in enumerate(df['moves'])]\n",
    "graphs = [graph for graph, _ in graphs_and_pos]\n",
    "\n",
    "model = train_embedding(graphs, v_size=50, window=2) \n",
    "\n",
    "df_encoded['aggregated_embeddings'] = df_encoded['moves'].apply(lambda x: aggregate_embeddings(x, model.wv))\n",
    "X = pd.DataFrame(df_encoded['aggregated_embeddings'].tolist())\n",
    "y = df_encoded['grade_encoded']\n",
    "\n",
    "X_train, X_test, y_train, y_test = train_test_split(X, y, test_size=0.2, random_state=42)\n",
    "classifier = RandomForestClassifier(n_estimators=100, random_state=42)\n",
    "classifier.fit(X_train, y_train)\n",
    "\n",
    "predictions = classifier.predict(X_test)\n",
    "accuracy = accuracy_score(y_test, predictions)\n",
    "print(f\"Distance: {dist}, Emb: {emb}, Window: {w}, Accuracy: {accuracy:.2%}\")"
   ]
  },
  {
   "cell_type": "markdown",
   "metadata": {},
   "source": [
    "**GNN**\n",
    "---\n",
    "\n",
    "-----"
   ]
  },
  {
   "cell_type": "markdown",
   "metadata": {},
   "source": [
    "Check if node exist in vocab"
   ]
  },
  {
   "cell_type": "code",
   "execution_count": 23,
   "metadata": {},
   "outputs": [],
   "source": [
    "filtered_graphs = []\n",
    "\n",
    "for graph in graph_list:\n",
    "    graph_nodes = set(graph[0].nodes())\n",
    "    if graph_nodes.issubset(vocabulary):\n",
    "        filtered_graphs.append((graph[0], graph[1]))"
   ]
  },
  {
   "cell_type": "code",
   "execution_count": 26,
   "metadata": {},
   "outputs": [
    {
     "name": "stdout",
     "output_type": "stream",
     "text": [
      "j5 missing node\n"
     ]
    }
   ],
   "source": [
    "x = []\n",
    "for node in vocabulary:\n",
    "    try:\n",
    "        x.append((node, model.wv[node]))\n",
    "    except:\n",
    "        print(node, \"missing node\")"
   ]
  },
  {
   "cell_type": "code",
   "execution_count": 27,
   "metadata": {},
   "outputs": [],
   "source": [
    "vocabulary = list(model.wv.key_to_index.keys()) "
   ]
  },
  {
   "cell_type": "markdown",
   "metadata": {},
   "source": [
    "Attach embeddings to graph"
   ]
  },
  {
   "cell_type": "code",
   "execution_count": 28,
   "metadata": {},
   "outputs": [],
   "source": [
    "embedding_dict = dict(x)\n",
    "\n",
    "for graph in filtered_graphs:\n",
    "    for node in graph[0].nodes():\n",
    "        if node in embedding_dict:\n",
    "            embedding = embedding_dict[node]\n",
    "            nx.set_node_attributes(graph[0], {node: embedding}, name='embedding')"
   ]
  },
  {
   "cell_type": "markdown",
   "metadata": {},
   "source": [
    "Convert nxGraph to PyTorch graph"
   ]
  },
  {
   "cell_type": "code",
   "execution_count": 29,
   "metadata": {},
   "outputs": [
    {
     "name": "stderr",
     "output_type": "stream",
     "text": [
      "/var/folders/69/80h6lkms4pv5z1ttzkp1p9dr0000gn/T/ipykernel_26569/628461002.py:20: UserWarning:\n",
      "\n",
      "Creating a tensor from a list of numpy.ndarrays is extremely slow. Please consider converting the list to a single numpy.ndarray with numpy.array() before converting to a tensor. (Triggered internally at /Users/runner/work/pytorch/pytorch/pytorch/torch/csrc/utils/tensor_new.cpp:277.)\n",
      "\n"
     ]
    }
   ],
   "source": [
    "data_list = []\n",
    "node_to_index = {}\n",
    "index_counter = 0\n",
    "\n",
    "for graph, _ in graph_list:\n",
    "    num_nodes = graph.number_of_nodes()\n",
    "    num_edges = graph.number_of_edges()\n",
    "    \n",
    "    node_features = []\n",
    "    for node in graph.nodes():\n",
    "        if 'embedding' in graph.nodes[node]:\n",
    "            node_features.append(graph.nodes[node]['embedding'])\n",
    "        else:\n",
    "            node_features.append([0.0] * 50)\n",
    "    node_features = torch.tensor(node_features, dtype=torch.float)\n",
    "    \n",
    "    for node in graph.nodes():\n",
    "        if node not in node_to_index:\n",
    "            node_to_index[node] = index_counter\n",
    "            index_counter += 1\n",
    "    \n",
    "    edge_list = [(node_to_index[edge[0]], node_to_index[edge[1]]) for edge in graph.edges()]\n",
    "    edge_index = torch.tensor(edge_list, dtype=torch.long).t()\n",
    "    \n",
    "    data = Data(x=node_features, edge_index=edge_index)\n",
    "    data_list.append(data)"
   ]
  },
  {
   "cell_type": "markdown",
   "metadata": {},
   "source": [
    "Define GCN structure"
   ]
  },
  {
   "cell_type": "code",
   "execution_count": 30,
   "metadata": {},
   "outputs": [],
   "source": [
    "class GCN(torch.nn.Module):\n",
    "    def __init__(self, in_channels=50, hidden_channels=16, out_channels=14):\n",
    "        super(GCN, self).__init__()\n",
    "        self.conv1 = GCNConv(in_channels, 30)\n",
    "        self.conv2 = GCNConv(30, 20)\n",
    "        self.conv3 = GCNConv(20, 14)\n",
    "\n",
    "    def forward(self, x, edge_index):\n",
    "        x = self.conv1(x, edge_index)\n",
    "        x = F.relu(x)\n",
    "        x = self.conv2(x, edge_index)\n",
    "        x = F.relu(x)\n",
    "        x = self.conv3(x, edge_index)\n",
    "        return x"
   ]
  },
  {
   "cell_type": "markdown",
   "metadata": {},
   "source": [
    "Graph conversion function"
   ]
  },
  {
   "cell_type": "code",
   "execution_count": 31,
   "metadata": {},
   "outputs": [],
   "source": [
    "def graph_to_data(graph_tuple):\n",
    "    graph, target = graph_tuple\n",
    "    node_embeddings = list(nx.get_node_attributes(graph, 'embedding').values())\n",
    "    x = torch.tensor(node_embeddings, dtype=torch.float)\n",
    "    \n",
    "    node_to_index = {node: index for index, node in enumerate(graph.nodes())}\n",
    "    edge_index = torch.tensor([[node_to_index[e[0]], node_to_index[e[1]]] for e in graph.edges()]).t().contiguous()\n",
    "\n",
    "    return Data(x=x, edge_index=edge_index, y=target)"
   ]
  },
  {
   "cell_type": "markdown",
   "metadata": {},
   "source": [
    "Define model"
   ]
  },
  {
   "cell_type": "code",
   "execution_count": 32,
   "metadata": {},
   "outputs": [],
   "source": [
    "input_dim = 50\n",
    "model = GCN()\n",
    "criterion = torch.nn.MSELoss()\n",
    "optimizer = torch.optim.Adam(model.parameters(), lr=0.01)"
   ]
  },
  {
   "cell_type": "markdown",
   "metadata": {},
   "source": [
    "Collect and train/test split"
   ]
  },
  {
   "cell_type": "code",
   "execution_count": 33,
   "metadata": {},
   "outputs": [],
   "source": [
    "data_list = [graph_to_data(graph_tuple) for graph_tuple in graph_list]"
   ]
  },
  {
   "cell_type": "code",
   "execution_count": 34,
   "metadata": {},
   "outputs": [],
   "source": [
    "def custom_collate(batch):\n",
    "    return Batch.from_data_list(batch)\n",
    "\n",
    "loader = DataLoader(data_list, batch_size=64, shuffle=True, collate_fn=custom_collate)"
   ]
  },
  {
   "cell_type": "code",
   "execution_count": 35,
   "metadata": {},
   "outputs": [],
   "source": [
    "label_encoder = LabelEncoder()\n",
    "df['grade_encoded'] = label_encoder.fit_transform(df['grade'])"
   ]
  },
  {
   "cell_type": "code",
   "execution_count": 36,
   "metadata": {},
   "outputs": [],
   "source": [
    "def split_list(lst, percentage):\n",
    "    random.shuffle(lst)\n",
    "    split_index = int(len(lst) * percentage)\n",
    "    first_list = lst[:split_index]\n",
    "    second_list = lst[split_index:]\n",
    "    return first_list, second_list"
   ]
  },
  {
   "cell_type": "code",
   "execution_count": 37,
   "metadata": {},
   "outputs": [],
   "source": [
    "train_list, test_list = split_list(graph_list, 0.9)"
   ]
  },
  {
   "cell_type": "markdown",
   "metadata": {},
   "source": [
    "Training loop"
   ]
  },
  {
   "cell_type": "code",
   "execution_count": 39,
   "metadata": {},
   "outputs": [
    {
     "name": "stdout",
     "output_type": "stream",
     "text": [
      "Epoch 1, Average Loss: 3.796505780980161\n",
      "Epoch 2, Average Loss: 3.63515879681019\n",
      "Epoch 3, Average Loss: 3.5941786482108973\n",
      "Epoch 4, Average Loss: 3.6095631882146173\n",
      "Epoch 5, Average Loss: 3.583230665585337\n",
      "Epoch 6, Average Loss: 3.549264963950644\n",
      "Epoch 7, Average Loss: 3.489212269561837\n",
      "Epoch 8, Average Loss: 3.459158214061005\n",
      "Epoch 9, Average Loss: 3.4564998456599034\n",
      "Epoch 10, Average Loss: 3.4367277530605023\n",
      "Epoch 11, Average Loss: 3.4322817568409953\n",
      "Epoch 12, Average Loss: 3.4290260321550483\n",
      "Epoch 13, Average Loss: 3.424266846764709\n",
      "Epoch 14, Average Loss: 3.4171406647144127\n",
      "Epoch 15, Average Loss: 3.414566971851611\n",
      "Epoch 16, Average Loss: 3.4149376022608844\n",
      "Epoch 17, Average Loss: 3.4117060181309324\n",
      "Epoch 18, Average Loss: 3.4065202051259207\n",
      "Epoch 19, Average Loss: 3.4124865336021757\n",
      "Epoch 20, Average Loss: 3.4022722943593156\n",
      "Epoch 21, Average Loss: 3.3896532773252495\n",
      "Epoch 22, Average Loss: 3.3974771729846807\n",
      "Epoch 23, Average Loss: 3.3907209123090305\n",
      "Epoch 24, Average Loss: 3.3900867100980294\n",
      "Epoch 25, Average Loss: 3.3844102435691346\n",
      "Epoch 26, Average Loss: 3.387513442461867\n",
      "Epoch 27, Average Loss: 3.383353437309353\n",
      "Epoch 28, Average Loss: 3.3812362607372903\n",
      "Epoch 29, Average Loss: 3.377640117018652\n",
      "Epoch 30, Average Loss: 3.3784308789186768\n",
      "Epoch 31, Average Loss: 3.3800203717190698\n",
      "Epoch 32, Average Loss: 3.3801423445940655\n",
      "Epoch 33, Average Loss: 3.384406087699379\n",
      "Epoch 34, Average Loss: 3.379990187496728\n",
      "Epoch 35, Average Loss: 3.378970179322404\n",
      "Epoch 36, Average Loss: 3.3766388398519176\n",
      "Epoch 37, Average Loss: 3.3768659669172445\n",
      "Epoch 38, Average Loss: 3.373124311202029\n",
      "Epoch 39, Average Loss: 3.37912819038167\n",
      "Epoch 40, Average Loss: 3.3736256636420117\n",
      "Epoch 41, Average Loss: 3.378232385564563\n",
      "Epoch 42, Average Loss: 3.3713187701350322\n",
      "Epoch 43, Average Loss: 3.372087717107502\n",
      "Epoch 44, Average Loss: 3.3742766136793088\n",
      "Epoch 45, Average Loss: 3.3719271191698836\n",
      "Epoch 46, Average Loss: 3.3724406102919007\n",
      "Epoch 47, Average Loss: 3.3715221750997153\n",
      "Epoch 48, Average Loss: 3.3720114485262287\n",
      "Epoch 49, Average Loss: 3.370421640804825\n",
      "Epoch 50, Average Loss: 3.3699159869607818\n"
     ]
    }
   ],
   "source": [
    "model.train()\n",
    "epochs = 50\n",
    "loss_list = []\n",
    "tot_loss = []\n",
    "for epoch in range(epochs):\n",
    "    total_loss = 0\n",
    "    for graph_tuple in train_list:\n",
    "        try:\n",
    "            graph, target_idx = graph_tuple\n",
    "            optimizer.zero_grad()\n",
    "            data = graph_to_data(graph_tuple)\n",
    "            out = model(data.x, data.edge_index)\n",
    "            target = torch.tensor(df.loc[target_idx, 'grade_encoded'], dtype=torch.float)\n",
    "            loss = criterion(torch.mean(out), target)\n",
    "            loss_list.append(loss)\n",
    "            loss.backward()\n",
    "            optimizer.step()\n",
    "            total_loss += loss.item()\n",
    "        except:\n",
    "            pass\n",
    "    average_loss = total_loss / len(graph_list)\n",
    "    tot_loss.append(average_loss)\n",
    "    print(f'Epoch {epoch+1}, Average Loss: {average_loss}')"
   ]
  },
  {
   "cell_type": "code",
   "execution_count": 40,
   "metadata": {},
   "outputs": [
    {
     "data": {
      "text/plain": [
       "[<matplotlib.lines.Line2D at 0x2d5e76ed0>]"
      ]
     },
     "execution_count": 40,
     "metadata": {},
     "output_type": "execute_result"
    },
    {
     "data": {
      "image/png": "[encoded data removed]",
      "text/plain": [
       "<Figure size 640x480 with 1 Axes>"
      ]
     },
     "metadata": {},
     "output_type": "display_data"
    }
   ],
   "source": [
    "plt.plot(tot_loss)"
   ]
  },
  {
   "attachments": {
    "image.png": {
     "image/png": "[encoded data removed]"
    }
   },
   "cell_type": "markdown",
   "metadata": {},
   "source": [
    "![image.png](attachment:image.png)"
   ]
  },
  {
   "cell_type": "markdown",
   "metadata": {},
   "source": [
    "Evaluation loop"
   ]
  },
  {
   "cell_type": "code",
   "execution_count": 44,
   "metadata": {},
   "outputs": [
    {
     "name": "stdout",
     "output_type": "stream",
     "text": [
      "Accuracy: 29.93%\n",
      "Average Test Loss: 3.533875524579506\n"
     ]
    }
   ],
   "source": [
    "model.eval()\n",
    "\n",
    "correct_predictions = 0\n",
    "total_samples = 0\n",
    "\n",
    "test_loss_list = []\n",
    "\n",
    "with torch.no_grad():\n",
    "    for graph_tuple in test_list:\n",
    "        try:\n",
    "            graph, target_idx = graph_tuple\n",
    "            data = graph_to_data(graph_tuple)\n",
    "            out = model(data.x, data.edge_index)\n",
    "\n",
    "            pred = torch.mean(out)\n",
    "            target = torch.tensor(df.loc[target_idx, 'grade_encoded'], dtype=torch.float).item()\n",
    "            loss = criterion(torch.mean(out), torch.tensor(target))\n",
    "            test_loss_list.append(loss.item())\n",
    "            \n",
    "            total_samples += 1\n",
    "\n",
    "            if int(pred.item()) == target: \n",
    "                correct_predictions += 1\n",
    "        except Exception as e:\n",
    "            print(f\"Error processing sample: {e}\")\n",
    "            pass\n",
    "\n",
    "accuracy = correct_predictions / total_samples\n",
    "average_test_loss = sum(test_loss_list) / total_samples\n",
    "\n",
    "print(f'Accuracy: {accuracy * 100:.2f}%')\n",
    "print(f'Average Test Loss: {average_test_loss}')"
   ]
  }
 ],
 "metadata": {
  "kernelspec": {
   "display_name": "base",
   "language": "python",
   "name": "python3"
  },
  "language_info": {
   "codemirror_mode": {
    "name": "ipython",
    "version": 3
   },
   "file_extension": ".py",
   "mimetype": "text/x-python",
   "name": "python",
   "nbconvert_exporter": "python",
   "pygments_lexer": "ipython3",
   "version": "3.11.0"
  }
 },
 "nbformat": 4,
 "nbformat_minor": 2
}
